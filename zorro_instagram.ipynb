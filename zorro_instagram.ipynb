{
 "cells": [
  {
   "cell_type": "markdown",
   "metadata": {},
   "source": [
    "# Testing Instagram's API\n",
    "https://github.com/LevPasha/Instagram-API-python"
   ]
  },
  {
   "cell_type": "markdown",
   "metadata": {},
   "source": [
    "## Login"
   ]
  },
  {
   "cell_type": "code",
   "execution_count": null,
   "metadata": {},
   "outputs": [],
   "source": [
    "from time import sleep\n",
    "import random"
   ]
  },
  {
   "cell_type": "code",
   "execution_count": null,
   "metadata": {},
   "outputs": [],
   "source": [
    "from InstagramAPI import InstagramAPI # check link above for installation instructions"
   ]
  },
  {
   "cell_type": "code",
   "execution_count": null,
   "metadata": {},
   "outputs": [],
   "source": [
    "api = InstagramAPI(\"your_username\", \"your_password\")\n",
    "api.login()"
   ]
  },
  {
   "cell_type": "markdown",
   "metadata": {},
   "source": [
    "## User ID and followers/following"
   ]
  },
  {
   "cell_type": "code",
   "execution_count": null,
   "metadata": {},
   "outputs": [],
   "source": [
    "user_id = api.username_id"
   ]
  },
  {
   "cell_type": "code",
   "execution_count": null,
   "metadata": {},
   "outputs": [],
   "source": [
    "followers = api.getTotalFollowers(user_id) #dictionary with information about followers\n",
    "followers_user_id = [dic[\"pk\"] for dic in followers] #list with followers' ids"
   ]
  },
  {
   "cell_type": "code",
   "execution_count": null,
   "metadata": {},
   "outputs": [],
   "source": [
    "following = api.getTotalFollowings(user_id) #dictionary with information about following\n",
    "following_user_id = [dic[\"pk\"] for dic in following] # list with followings' ids"
   ]
  },
  {
   "cell_type": "markdown",
   "metadata": {},
   "source": [
    "## New Followings"
   ]
  },
  {
   "cell_type": "code",
   "execution_count": null,
   "metadata": {},
   "outputs": [],
   "source": [
    "# Get users that posted media with certain hashtag\n",
    "def follow_from_hashtag(hashtag):\n",
    "    api.getHashtagFeed(hashtag)\n",
    "    hashtag_feed = api.LastJson\n",
    "    return([dic[\"user\"][\"pk\"] for dic in hashtag_feed[\"items\"]])\n",
    "\n",
    "# Get media ids for the last 4 medias poted by a certain user\n",
    "def like_from_new_following(user_id):\n",
    "    api.getUserFeed(user_id)\n",
    "    user_feed = api.LastJson\n",
    "    return([dic[\"id\"] for dic in user_feed[\"items\"][0:4]])"
   ]
  },
  {
   "cell_type": "code",
   "execution_count": null,
   "metadata": {},
   "outputs": [],
   "source": [
    "# find users that posted media with certain hashtags, like their last 4 posts and then follow them\n",
    "def new_followings(hashtags):\n",
    "    users_to_follow = []\n",
    "    for hashtag in hashtags:\n",
    "        users_to_follow.extend(follow_from_hashtag(hashtag))\n",
    "    users_to_follow = set(users_to_follow)\n",
    "    users_to_follow.difference(set(following_user_id))\n",
    "    users_to_follow = list(random.sample(users_to_follow, 300)) # be sure to check the limits so IG doesn't block your account. I'm playing safe with 300\n",
    "    for user_id in users_to_follow:\n",
    "        medias_to_like = like_from_new_following(user_id)\n",
    "        for media_id in medias_to_like:\n",
    "            api.like(media_id)\n",
    "            sleep(2)\n",
    "        api.follow(user_id)\n",
    "        sleep(random.randint(40,60)) # also check the limit for requests per second"
   ]
  },
  {
   "cell_type": "code",
   "execution_count": null,
   "metadata": {},
   "outputs": [],
   "source": [
    "new_followings([\"zeedog\", \"bestwoof\", \"bordercolliebrasil\", \"zeedogmafia\", \"cachorrosdobrasil\", \"bordercolliesrock\"])"
   ]
  },
  {
   "cell_type": "markdown",
   "metadata": {},
   "source": [
    "## Unfollow Unfollowers"
   ]
  },
  {
   "cell_type": "code",
   "execution_count": null,
   "metadata": {},
   "outputs": [],
   "source": [
    "# unfollow people who are not following you\n",
    "def unfollow_unfollowers(followers_id, following_id, exceptions):\n",
    "    unfollowers = list(set(following_id).difference(set(followers_id)))\n",
    "    unfollow = [user_id for user_id in unfollowers if user_id not in exceptions]\n",
    "    return(unfollow)"
   ]
  },
  {
   "cell_type": "code",
   "execution_count": null,
   "metadata": {},
   "outputs": [],
   "source": [
    "# But don't unfollow these exceptions\n",
    "username_exceptions = [\"zakgeorge\", \"thesupercollies\", \"my_aussie_gal\", \"thesupercolliesmom\", \"zee_dog\",\n",
    "                      \"thesupershepherds\", \"zeedogmafia\", \"zeedog\", \"buddyboy_bc\", \"ze.border\", \"kikopup\"]\n",
    "exceptions = [dic[\"pk\"] for dic in following if dic[\"username\"] in username_exceptions]"
   ]
  },
  {
   "cell_type": "code",
   "execution_count": null,
   "metadata": {},
   "outputs": [],
   "source": [
    "unfollow = unfollow_unfollowers(followers_user_id, following_user_id, exceptions)\n",
    "for user_id in unfollow:\n",
    "    api.unfollow(user_id)\n",
    "    sleep(random.randint(40,60))"
   ]
  },
  {
   "cell_type": "markdown",
   "metadata": {},
   "source": [
    "## Send Love to Followers"
   ]
  },
  {
   "cell_type": "code",
   "execution_count": null,
   "metadata": {},
   "outputs": [],
   "source": [
    "# Like the last 4 posts of certain user\n",
    "def send_love_to_follower(follower_id):\n",
    "    api.getUserFeed(follower_id)\n",
    "    feed = api.LastJson\n",
    "    medias_to_like = [dic[\"id\"] for dic in feed[\"items\"][0:4]]\n",
    "    for media in medias_to_like:\n",
    "        api.like(media)\n",
    "        sleep(2)"
   ]
  },
  {
   "cell_type": "code",
   "execution_count": null,
   "metadata": {},
   "outputs": [],
   "source": [
    "# select some followers too have their media liked. Don't worry, if you've already liked them, it won't \"unilike\" any.\n",
    "def send_love_to_followers(followers):\n",
    "    followers_id = random.sample([dic[\"pk\"] for dic in followers if dic[\"is_private\"] == False], 200)\n",
    "    for follower in followers_id:\n",
    "        send_love_to_follower(follower)\n",
    "        sleep(random.randint(10,30))"
   ]
  },
  {
   "cell_type": "code",
   "execution_count": null,
   "metadata": {},
   "outputs": [],
   "source": [
    "send_love_to_followers(followers)"
   ]
  },
  {
   "cell_type": "markdown",
   "metadata": {},
   "source": [
    "## Logout"
   ]
  },
  {
   "cell_type": "code",
   "execution_count": null,
   "metadata": {},
   "outputs": [],
   "source": [
    "api.logout()"
   ]
  }
 ],
 "metadata": {
  "kernelspec": {
   "display_name": "Python 3",
   "language": "python",
   "name": "python3"
  },
  "language_info": {
   "codemirror_mode": {
    "name": "ipython",
    "version": 3
   },
   "file_extension": ".py",
   "mimetype": "text/x-python",
   "name": "python",
   "nbconvert_exporter": "python",
   "pygments_lexer": "ipython3",
   "version": "3.6.5"
  }
 },
 "nbformat": 4,
 "nbformat_minor": 2
}
